{
 "cells": [
  {
   "cell_type": "markdown",
   "metadata": {},
   "source": [
    "### Note: In the given assignment problem, it is asked to calculate the area (surface_area) of the cone, but in the sample execution for the given input, volume of the cone is calculated."
   ]
  },
  {
   "cell_type": "markdown",
   "metadata": {},
   "source": [
    "### Problem 1"
   ]
  },
  {
   "cell_type": "code",
   "execution_count": 5,
   "metadata": {},
   "outputs": [],
   "source": [
    "# surface_area of the Cone = pi * r * s + pi * r^2\n",
    "# Volume of the Cone = (1/3) * pi * r * r * h\n",
    "import numpy as np\n",
    "import math\n",
    "class Cone:\n",
    "    radius = 0.0\n",
    "    height = 0.0\n",
    "    def __init__(self, radius, height):\n",
    "        self.radius = radius\n",
    "        self.height = height\n",
    "    def calculate_area(self):\n",
    "        slant_height = np.sqrt((self.radius ** 2) + (self.height ** 2))\n",
    "        print(\"sh: \", slant_height)\n",
    "        area = math.pi * self.radius * slant_height + math.pi * (self.radius ** 2)\n",
    "        return area\n",
    "    def volume(self):\n",
    "        volume = (1/3) * (math.pi * (self.radius**2) * self.height)\n",
    "        return volume"
   ]
  },
  {
   "cell_type": "code",
   "execution_count": 7,
   "metadata": {},
   "outputs": [
    {
     "name": "stdout",
     "output_type": "stream",
     "text": [
      "Please enter the radius of the cone: 4\n",
      "Please enter the height of the cone: 5\n",
      "sh:  6.4031242374328485\n",
      "Area of a Cone with radius:4.0 and height: 5.0 is: 130.72951471480383\n",
      "Volume of a Cone with radius:4.0 and height: 5.0 is: 83.7758040957278\n"
     ]
    }
   ],
   "source": [
    "radius = float(input(\"Please enter the radius of the cone: \"))\n",
    "height = float(input(\"Please enter the height of the cone: \"))\n",
    "cone = Cone(radius, height)\n",
    "print (\"Area of a Cone with radius:{} and height: {} is: \".format(radius,height) + str(cone.calculate_area()))\n",
    "print (\"Volume of a Cone with radius:{} and height: {} is: \".format(radius,height) + str(cone.volume()))"
   ]
  },
  {
   "cell_type": "markdown",
   "metadata": {},
   "source": [
    "### Problem 2"
   ]
  },
  {
   "cell_type": "code",
   "execution_count": 8,
   "metadata": {},
   "outputs": [],
   "source": [
    "class MathOperation:\n",
    "    def power(self, x, n):\n",
    "            if x==0 or x==1 or n==1:\n",
    "                return x \n",
    "\n",
    "            if x==-1:\n",
    "                if n%2 ==0:\n",
    "                    return 1\n",
    "                else:\n",
    "                    return -1\n",
    "            if n==0:\n",
    "                return 1\n",
    "            if n<0:\n",
    "                return 1/self.power(x,-n)\n",
    "            val = self.power(x,n//2)\n",
    "            if n%2 ==0:\n",
    "                return val*val\n",
    "            return val*val*x"
   ]
  },
  {
   "cell_type": "code",
   "execution_count": 9,
   "metadata": {},
   "outputs": [
    {
     "name": "stdout",
     "output_type": "stream",
     "text": [
      "Power of 2 to 3 is:  8\n",
      "Power of 5 to -3 is:  0.008\n",
      "Power of -2 to 5 is:  -32\n",
      "Power of -5 to -3 is:  -0.008\n",
      "Power of 20000 to 0 is:  1\n"
     ]
    }
   ],
   "source": [
    "math = MathOperation()\n",
    "print(\"Power of 2 to 3 is: \", math.power(2, 3))\n",
    "print(\"Power of 5 to -3 is: \", math.power(5, -3))\n",
    "print(\"Power of -2 to 5 is: \", math.power(-2, 5))\n",
    "print(\"Power of -5 to -3 is: \", math.power(-5, -3))\n",
    "print(\"Power of 20000 to 0 is: \", math.power(20000, 0))"
   ]
  },
  {
   "cell_type": "markdown",
   "metadata": {},
   "source": [
    "### Problem 3"
   ]
  },
  {
   "cell_type": "code",
   "execution_count": 24,
   "metadata": {},
   "outputs": [
    {
     "name": "stdout",
     "output_type": "stream",
     "text": [
      "Derived class is a subclass of Base class:  True\n",
      "Base class is a subclass of Derived class:  False\n",
      "Base class is an instance of Derived class:  False\n",
      "Derived class is an instance of Base class:  True\n"
     ]
    }
   ],
   "source": [
    "class Base:\n",
    "    def __init__(self):\n",
    "        None\n",
    "    \n",
    "class Derived(Base):\n",
    "    def __init__(self):\n",
    "        None\n",
    "        \n",
    "base = Base()\n",
    "derived = Derived()  \n",
    "result = issubclass(Derived, Base)\n",
    "print('Derived class is a subclass of Base class: ', result)\n",
    "result = issubclass(Base, Derived)\n",
    "print('Base class is a subclass of Derived class: ', result)\n",
    "result = isinstance(base, Derived)\n",
    "print('Base class is an instance of Derived class: ', result)\n",
    "result = isinstance(derived, Base)\n",
    "print('Derived class is an instance of Base class: ', result)"
   ]
  },
  {
   "cell_type": "markdown",
   "metadata": {},
   "source": [
    "### Problem 4"
   ]
  },
  {
   "cell_type": "code",
   "execution_count": 27,
   "metadata": {},
   "outputs": [
    {
     "name": "stdout",
     "output_type": "stream",
     "text": [
      "Full name is Jagadeesh Battala\n"
     ]
    }
   ],
   "source": [
    "class Person:\n",
    "    # constructor initialization\n",
    "    def __init__(self, first, last): \n",
    "        self.first_name = first\n",
    "        self.last_name = last\n",
    "    def __str__(self):\n",
    "        return \"Full name is {} {}\".format(self.first_name, self.last_name)\n",
    "    \n",
    "class Employee(Person):\n",
    "    def __init__(self, fname, lname):\n",
    "        super().__init__(fname,lname)\n",
    "        \n",
    "emp = Employee(\"Jagadeesh\",\"Battala\")\n",
    "print(emp)"
   ]
  },
  {
   "cell_type": "code",
   "execution_count": null,
   "metadata": {},
   "outputs": [],
   "source": []
  }
 ],
 "metadata": {
  "kernelspec": {
   "display_name": "Python 3",
   "language": "python",
   "name": "python3"
  },
  "language_info": {
   "codemirror_mode": {
    "name": "ipython",
    "version": 3
   },
   "file_extension": ".py",
   "mimetype": "text/x-python",
   "name": "python",
   "nbconvert_exporter": "python",
   "pygments_lexer": "ipython3",
   "version": "3.7.0"
  }
 },
 "nbformat": 4,
 "nbformat_minor": 2
}
